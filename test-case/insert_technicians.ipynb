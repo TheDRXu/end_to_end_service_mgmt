{
 "cells": [
  {
   "cell_type": "code",
   "execution_count": 1,
   "id": "5a382208",
   "metadata": {},
   "outputs": [
    {
     "name": "stdout",
     "output_type": "stream",
     "text": [
      "env: DDB_TABLE=end_to_end_service_mgmt\n"
     ]
    }
   ],
   "source": [
    "%env DDB_TABLE=end_to_end_service_mgmt\n",
    "import os, boto3\n",
    "table = boto3.resource(\"dynamodb\").Table(os.environ[\"DDB_TABLE\"])"
   ]
  },
  {
   "cell_type": "code",
   "execution_count": 2,
   "id": "d3da4e95",
   "metadata": {},
   "outputs": [
    {
     "name": "stdout",
     "output_type": "stream",
     "text": [
      "[{'AttributeName': 'id', 'KeyType': 'HASH'}]\n"
     ]
    }
   ],
   "source": [
    "ddb = boto3.client(\"dynamodb\")\n",
    "resp = ddb.describe_table(TableName=os.environ[\"DDB_TABLE\"])\n",
    "print(resp[\"Table\"][\"KeySchema\"])"
   ]
  },
  {
   "cell_type": "markdown",
   "id": "59599c36",
   "metadata": {},
   "source": [
    "Insert 5 Technicians"
   ]
  },
  {
   "cell_type": "code",
   "execution_count": 4,
   "id": "c893da95",
   "metadata": {},
   "outputs": [
    {
     "name": "stdout",
     "output_type": "stream",
     "text": [
      "Inserted 15 technicians into end_to_end_service_mgmt\n"
     ]
    }
   ],
   "source": [
    "import boto3\n",
    "import os\n",
    "from decimal import Decimal\n",
    "\n",
    "table = boto3.resource(\"dynamodb\").Table(os.environ[\"DDB_TABLE\"])\n",
    "\n",
    "workers = [\n",
    "    # Taipei\n",
    "    {\n",
    "        \"id\": \"TECH#1\",\n",
    "        \"name\": \"Mei Chen\",\n",
    "        \"phone\": \"+886900000001\",\n",
    "        \"skills\": [\"tires\", \"general\"],\n",
    "        \"homeBase\": {\"lat\": Decimal(\"25.0330\"), \"lon\": Decimal(\"121.5654\")},\n",
    "        \"todayLoad\": Decimal(\"0\")\n",
    "    },\n",
    "    {\n",
    "        \"id\": \"TECH#2\",\n",
    "        \"name\": \"Jamie Lin\",\n",
    "        \"phone\": \"+886900000002\",\n",
    "        \"skills\": [\"oil\", \"brakes\"],\n",
    "        \"homeBase\": {\"lat\": Decimal(\"25.0418\"), \"lon\": Decimal(\"121.5435\")},\n",
    "        \"todayLoad\": Decimal(\"1\")\n",
    "    },\n",
    "    {\n",
    "        \"id\": \"TECH#3\",\n",
    "        \"name\": \"Wei Wang\",\n",
    "        \"phone\": \"+886900000003\",\n",
    "        \"skills\": [\"general\", \"engine\"],\n",
    "        \"homeBase\": {\"lat\": Decimal(\"25.0500\"), \"lon\": Decimal(\"121.5600\")},\n",
    "        \"todayLoad\": Decimal(\"2\")\n",
    "    },\n",
    "    {\n",
    "        \"id\": \"TECH#4\",\n",
    "        \"name\": \"Li Hua\",\n",
    "        \"phone\": \"+886900000004\",\n",
    "        \"skills\": [\"electrical\", \"diagnostics\"],\n",
    "        \"homeBase\": {\"lat\": Decimal(\"25.0580\"), \"lon\": Decimal(\"121.5200\")},\n",
    "        \"todayLoad\": Decimal(\"0\")\n",
    "    },\n",
    "    {\n",
    "        \"id\": \"TECH#5\",\n",
    "        \"name\": \"Chen Mei\",\n",
    "        \"phone\": \"+886900000005\",\n",
    "        \"skills\": [\"brakes\", \"suspension\"],\n",
    "        \"homeBase\": {\"lat\": Decimal(\"25.0650\"), \"lon\": Decimal(\"121.5500\")},\n",
    "        \"todayLoad\": Decimal(\"1\")\n",
    "    },\n",
    "\n",
    "    # Taichung\n",
    "    {\n",
    "        \"id\": \"TECH#6\",\n",
    "        \"name\": \"Hao Zhang\",\n",
    "        \"phone\": \"+886900000006\",\n",
    "        \"skills\": [\"engine\", \"diagnostics\"],\n",
    "        \"homeBase\": {\"lat\": Decimal(\"24.1477\"), \"lon\": Decimal(\"120.6736\")},\n",
    "        \"todayLoad\": Decimal(\"3\")\n",
    "    },\n",
    "    {\n",
    "        \"id\": \"TECH#7\",\n",
    "        \"name\": \"Yun Li\",\n",
    "        \"phone\": \"+886900000007\",\n",
    "        \"skills\": [\"AC repair\", \"electrical\"],\n",
    "        \"homeBase\": {\"lat\": Decimal(\"24.1500\"), \"lon\": Decimal(\"120.6500\")},\n",
    "        \"todayLoad\": Decimal(\"0\")\n",
    "    },\n",
    "    {\n",
    "        \"id\": \"TECH#8\",\n",
    "        \"name\": \"Bo Huang\",\n",
    "        \"phone\": \"+886900000008\",\n",
    "        \"skills\": [\"oil\", \"general\"],\n",
    "        \"homeBase\": {\"lat\": Decimal(\"24.1600\"), \"lon\": Decimal(\"120.6800\")},\n",
    "        \"todayLoad\": Decimal(\"2\")\n",
    "    },\n",
    "    {\n",
    "        \"id\": \"TECH#9\",\n",
    "        \"name\": \"Qian Wu\",\n",
    "        \"phone\": \"+886900000009\",\n",
    "        \"skills\": [\"suspension\", \"tires\"],\n",
    "        \"homeBase\": {\"lat\": Decimal(\"24.1400\"), \"lon\": Decimal(\"120.6700\")},\n",
    "        \"todayLoad\": Decimal(\"4\")\n",
    "    },\n",
    "    {\n",
    "        \"id\": \"TECH#10\",\n",
    "        \"name\": \"Shu Chen\",\n",
    "        \"phone\": \"+886900000010\",\n",
    "        \"skills\": [\"brakes\", \"engine\"],\n",
    "        \"homeBase\": {\"lat\": Decimal(\"24.1550\"), \"lon\": Decimal(\"120.6600\")},\n",
    "        \"todayLoad\": Decimal(\"1\")\n",
    "    },\n",
    "\n",
    "    # Kaohsiung\n",
    "    {\n",
    "        \"id\": \"TECH#11\",\n",
    "        \"name\": \"Kai Lee\",\n",
    "        \"phone\": \"+886900000011\",\n",
    "        \"skills\": [\"electrical\", \"diagnostics\"],\n",
    "        \"homeBase\": {\"lat\": Decimal(\"22.6273\"), \"lon\": Decimal(\"120.3014\")},\n",
    "        \"todayLoad\": Decimal(\"0\")\n",
    "    },\n",
    "    {\n",
    "        \"id\": \"TECH#12\",\n",
    "        \"name\": \"Ting Yu\",\n",
    "        \"phone\": \"+886900000012\",\n",
    "        \"skills\": [\"oil\", \"AC repair\"],\n",
    "        \"homeBase\": {\"lat\": Decimal(\"22.6300\"), \"lon\": Decimal(\"120.3000\")},\n",
    "        \"todayLoad\": Decimal(\"2\")\n",
    "    },\n",
    "    {\n",
    "        \"id\": \"TECH#13\",\n",
    "        \"name\": \"Jian Guo\",\n",
    "        \"phone\": \"+886900000013\",\n",
    "        \"skills\": [\"engine\", \"suspension\"],\n",
    "        \"homeBase\": {\"lat\": Decimal(\"22.6400\"), \"lon\": Decimal(\"120.3200\")},\n",
    "        \"todayLoad\": Decimal(\"3\")\n",
    "    },\n",
    "    {\n",
    "        \"id\": \"TECH#14\",\n",
    "        \"name\": \"Ling Zhao\",\n",
    "        \"phone\": \"+886900000014\",\n",
    "        \"skills\": [\"tires\", \"general\"],\n",
    "        \"homeBase\": {\"lat\": Decimal(\"22.6200\"), \"lon\": Decimal(\"120.3100\")},\n",
    "        \"todayLoad\": Decimal(\"1\")\n",
    "    },\n",
    "    {\n",
    "        \"id\": \"TECH#15\",\n",
    "        \"name\": \"Ming Xu\",\n",
    "        \"phone\": \"+886900000015\",\n",
    "        \"skills\": [\"brakes\", \"diagnostics\"],\n",
    "        \"homeBase\": {\"lat\": Decimal(\"22.6250\"), \"lon\": Decimal(\"120.3050\")},\n",
    "        \"todayLoad\": Decimal(\"2\")\n",
    "    }\n",
    "]\n",
    "\n",
    "for w in workers:\n",
    "    table.put_item(Item=w)\n",
    "\n",
    "print(f\"Inserted {len(workers)} technicians into\", os.environ[\"DDB_TABLE\"])\n"
   ]
  },
  {
   "cell_type": "code",
   "execution_count": null,
   "id": "f1ef3bce",
   "metadata": {},
   "outputs": [],
   "source": []
  }
 ],
 "metadata": {
  "kernelspec": {
   "display_name": "ml_trucks",
   "language": "python",
   "name": "python3"
  },
  "language_info": {
   "codemirror_mode": {
    "name": "ipython",
    "version": 3
   },
   "file_extension": ".py",
   "mimetype": "text/x-python",
   "name": "python",
   "nbconvert_exporter": "python",
   "pygments_lexer": "ipython3",
   "version": "3.13.5"
  }
 },
 "nbformat": 4,
 "nbformat_minor": 5
}
