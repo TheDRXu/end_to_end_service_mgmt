{
 "cells": [
  {
   "cell_type": "code",
   "execution_count": 1,
   "id": "5a382208",
   "metadata": {},
   "outputs": [
    {
     "name": "stdout",
     "output_type": "stream",
     "text": [
      "env: DDB_TABLE=end_to_end_service_mgmt\n"
     ]
    }
   ],
   "source": [
    "%env DDB_TABLE=end_to_end_service_mgmt\n",
    "import os, boto3\n",
    "table = boto3.resource(\"dynamodb\").Table(os.environ[\"DDB_TABLE\"])"
   ]
  },
  {
   "cell_type": "code",
   "execution_count": 2,
   "id": "d3da4e95",
   "metadata": {},
   "outputs": [
    {
     "name": "stdout",
     "output_type": "stream",
     "text": [
      "[{'AttributeName': 'id', 'KeyType': 'HASH'}]\n"
     ]
    }
   ],
   "source": [
    "ddb = boto3.client(\"dynamodb\")\n",
    "resp = ddb.describe_table(TableName=os.environ[\"DDB_TABLE\"])\n",
    "print(resp[\"Table\"][\"KeySchema\"])"
   ]
  },
  {
   "cell_type": "markdown",
   "id": "59599c36",
   "metadata": {},
   "source": [
    "Insert 5 Technicians"
   ]
  },
  {
   "cell_type": "code",
   "execution_count": 6,
   "id": "c893da95",
   "metadata": {},
   "outputs": [
    {
     "name": "stdout",
     "output_type": "stream",
     "text": [
      "Inserted 5 technicians into end_to_end_service_mgmt\n"
     ]
    }
   ],
   "source": [
    "import boto3\n",
    "import os\n",
    "from decimal import Decimal\n",
    "\n",
    "table = boto3.resource(\"dynamodb\").Table(os.environ[\"DDB_TABLE\"])\n",
    "\n",
    "workers = [\n",
    "    {\n",
    "        \"id\": \"TECH#1\",\n",
    "        \"name\": \"Mei Chen\",\n",
    "        \"phone\": \"+886900000001\",\n",
    "        \"skills\": [\"tires\", \"general\"],\n",
    "        \"homeBase\": {\"lat\": Decimal(\"25.04\"), \"lon\": Decimal(\"121.56\")},\n",
    "        \"todayLoad\": Decimal(\"0\")\n",
    "    },\n",
    "    {\n",
    "        \"id\": \"TECH#2\",\n",
    "        \"name\": \"Jamie Lin\",\n",
    "        \"phone\": \"+886900000002\",\n",
    "        \"skills\": [\"oil\", \"brakes\"],\n",
    "        \"homeBase\": {\"lat\": Decimal(\"25.02\"), \"lon\": Decimal(\"121.52\")},\n",
    "        \"todayLoad\": Decimal(\"1\")\n",
    "    },\n",
    "    {\n",
    "        \"id\": \"TECH#3\",\n",
    "        \"name\": \"Wei Wang\",\n",
    "        \"phone\": \"+886900000003\",\n",
    "        \"skills\": [\"general\", \"engine\"],\n",
    "        \"homeBase\": {\"lat\": Decimal(\"25.05\"), \"lon\": Decimal(\"121.54\")},\n",
    "        \"todayLoad\": Decimal(\"2\")\n",
    "    },\n",
    "    {\n",
    "        \"id\": \"TECH#4\",\n",
    "        \"name\": \"Li Hua\",\n",
    "        \"phone\": \"+886900000004\",\n",
    "        \"skills\": [\"electrical\", \"general\"],\n",
    "        \"homeBase\": {\"lat\": Decimal(\"25.03\"), \"lon\": Decimal(\"121.55\")},\n",
    "        \"todayLoad\": Decimal(\"0\")\n",
    "    },\n",
    "    {\n",
    "        \"id\": \"TECH#5\",\n",
    "        \"name\": \"Chen Mei\",\n",
    "        \"phone\": \"+886900000005\",\n",
    "        \"skills\": [\"brakes\", \"suspension\"],\n",
    "        \"homeBase\": {\"lat\": Decimal(\"25.01\"), \"lon\": Decimal(\"121.53\")},\n",
    "        \"todayLoad\": Decimal(\"1\")\n",
    "    }\n",
    "]\n",
    "\n",
    "for w in workers:\n",
    "    table.put_item(Item=w)\n",
    "\n",
    "print(\"Inserted 5 technicians into\", os.environ[\"DDB_TABLE\"])\n"
   ]
  },
  {
   "cell_type": "code",
   "execution_count": null,
   "id": "f1ef3bce",
   "metadata": {},
   "outputs": [],
   "source": []
  }
 ],
 "metadata": {
  "kernelspec": {
   "display_name": "ml_trucks",
   "language": "python",
   "name": "python3"
  },
  "language_info": {
   "codemirror_mode": {
    "name": "ipython",
    "version": 3
   },
   "file_extension": ".py",
   "mimetype": "text/x-python",
   "name": "python",
   "nbconvert_exporter": "python",
   "pygments_lexer": "ipython3",
   "version": "3.13.5"
  }
 },
 "nbformat": 4,
 "nbformat_minor": 5
}
